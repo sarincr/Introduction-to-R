{
  "nbformat": 4,
  "nbformat_minor": 0,
  "metadata": {
    "colab": {
      "provenance": [],
      "collapsed_sections": []
    },
    "kernelspec": {
      "name": "ir",
      "display_name": "R"
    },
    "language_info": {
      "name": "R"
    }
  },
  "cells": [
    {
      "cell_type": "code",
      "execution_count": 1,
      "metadata": {
        "id": "zNbkfoZnB6sR"
      },
      "outputs": [],
      "source": [
        "#x <- c(151, 174, 138, 186, 128, 136, 179, 163, 152, 131)\n",
        "x <- c(2001, 2002, 2003, 2004, 2005, 2006, 2007, 2008, 2009, 2020)"
      ]
    },
    {
      "cell_type": "code",
      "source": [
        "y <- c(63, 81, 56, 91, 47, 57, 76, 72, 62, 48)"
      ],
      "metadata": {
        "id": "VnVeXzwnCBhb"
      },
      "execution_count": 2,
      "outputs": []
    },
    {
      "cell_type": "code",
      "source": [
        "A <- lm(y~x)"
      ],
      "metadata": {
        "id": "Ptu3C6YGCC9o"
      },
      "execution_count": 3,
      "outputs": []
    },
    {
      "cell_type": "code",
      "source": [
        "B <- data.frame(x = 2021)"
      ],
      "metadata": {
        "id": "1IfAyNHoCEIu"
      },
      "execution_count": 4,
      "outputs": []
    },
    {
      "cell_type": "code",
      "source": [
        "result <-  predict(A,B)"
      ],
      "metadata": {
        "id": "4x5rs2S6CGQV"
      },
      "execution_count": 5,
      "outputs": []
    },
    {
      "cell_type": "code",
      "source": [
        "print(result)"
      ],
      "metadata": {
        "colab": {
          "base_uri": "https://localhost:8080/"
        },
        "id": "e0K5olYeCHr3",
        "outputId": "b5466bed-fc91-4996-eec5-7320f8b2cea5"
      },
      "execution_count": 6,
      "outputs": [
        {
          "output_type": "stream",
          "name": "stdout",
          "text": [
            "       1 \n",
            "49.58476 \n"
          ]
        }
      ]
    },
    {
      "cell_type": "code",
      "source": [],
      "metadata": {
        "id": "EZN4s_qFCJZf"
      },
      "execution_count": 7,
      "outputs": []
    }
  ]
}